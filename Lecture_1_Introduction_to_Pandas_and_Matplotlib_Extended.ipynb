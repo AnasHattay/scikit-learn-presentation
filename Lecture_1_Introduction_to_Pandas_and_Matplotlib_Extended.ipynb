{
  "cells": [
    {
      "cell_type": "markdown",
      "metadata": {},
      "source": [
        "# Lecture 1: Introduction to Pandas and Matplotlib\n",
        "\n",
        "**Applied Mathematics - Data Science Module**\n",
        "\n",
        "Welcome to your first lecture on using Python for data analysis! In this session, we will introduce two of the most important libraries in the data science world: **Pandas** and **Matplotlib**. These tools are essential for anyone working with data, including applied mathematicians, engineers, and scientists."
      ]
    },
    {
      "cell_type": "markdown",
      "metadata": {},
      "source": [
        "## \ud83d\udcda Learning Objectives\n",
        "\n",
        "By the end of this lecture, you will be able to:\n",
        "\n",
        "- \u2705 Understand the basic data science workflow\n",
        "- \u2705 Load and inspect datasets using Pandas\n",
        "- \u2705 Select and filter data in a Pandas DataFrame\n",
        "- \u2705 Compute basic statistics on data\n",
        "- \u2705 Create fundamental plots (line, scatter, bar) using Matplotlib\n",
        "- \u2705 Customize plots with labels, titles, and colors\n",
        "- \u2705 Interpret visualizations in the context of real-world data"
      ]
    },
    {
      "cell_type": "markdown",
      "metadata": {},
      "source": [
        "## \ud83d\udd04 The Data Science Pipeline\n",
        "\n",
        "A typical data science project follows a pipeline of steps. Understanding this workflow is crucial for effective data analysis:\n",
        "\n",
        "```\n",
        "\u250c\u2500\u2500\u2500\u2500\u2500\u2500\u2500\u2500\u2500\u2500\u2500\u2500\u2500\u2500\u2500\u2500\u2500\u2510\n",
        "\u2502 Data Acquisition\u2502  \u2190 Getting data from files, databases, APIs\n",
        "\u2514\u2500\u2500\u2500\u2500\u2500\u2500\u2500\u2500\u252c\u2500\u2500\u2500\u2500\u2500\u2500\u2500\u2500\u2518\n",
        "         \u2502\n",
        "         \u25bc\n",
        "\u250c\u2500\u2500\u2500\u2500\u2500\u2500\u2500\u2500\u2500\u2500\u2500\u2500\u2500\u2500\u2500\u2500\u2500\u2510\n",
        "\u2502 Data Cleaning   \u2502  \u2190 Handling missing values, removing duplicates\n",
        "\u2514\u2500\u2500\u2500\u2500\u2500\u2500\u2500\u2500\u252c\u2500\u2500\u2500\u2500\u2500\u2500\u2500\u2500\u2518\n",
        "         \u2502\n",
        "         \u25bc\n",
        "\u250c\u2500\u2500\u2500\u2500\u2500\u2500\u2500\u2500\u2500\u2500\u2500\u2500\u2500\u2500\u2500\u2500\u2500\u2510\n",
        "\u2502 Exploration     \u2502  \u2190 Visualizing, summarizing, understanding patterns\n",
        "\u2502 (EDA)           \u2502\n",
        "\u2514\u2500\u2500\u2500\u2500\u2500\u2500\u2500\u2500\u252c\u2500\u2500\u2500\u2500\u2500\u2500\u2500\u2500\u2518\n",
        "         \u2502\n",
        "         \u25bc\n",
        "\u250c\u2500\u2500\u2500\u2500\u2500\u2500\u2500\u2500\u2500\u2500\u2500\u2500\u2500\u2500\u2500\u2500\u2500\u2510\n",
        "\u2502 Modeling        \u2502  \u2190 Statistical/ML models (not covered today)\n",
        "\u2514\u2500\u2500\u2500\u2500\u2500\u2500\u2500\u2500\u252c\u2500\u2500\u2500\u2500\u2500\u2500\u2500\u2500\u2518\n",
        "         \u2502\n",
        "         \u25bc\n",
        "\u250c\u2500\u2500\u2500\u2500\u2500\u2500\u2500\u2500\u2500\u2500\u2500\u2500\u2500\u2500\u2500\u2500\u2500\u2510\n",
        "\u2502 Communication   \u2502  \u2190 Presenting results through visualizations\n",
        "\u2514\u2500\u2500\u2500\u2500\u2500\u2500\u2500\u2500\u2500\u2500\u2500\u2500\u2500\u2500\u2500\u2500\u2500\u2518\n",
        "```\n",
        "\n",
        "In this lecture, we focus on **Data Acquisition**, **Exploration**, and **Communication**."
      ]
    },
    {
      "cell_type": "markdown",
      "metadata": {},
      "source": [
        "## 1. Introduction to Pandas\n",
        "\n",
        "**Pandas** is a powerful library for data manipulation and analysis. It provides data structures and functions needed to work with structured data seamlessly.\n",
        "\n",
        "The primary data structure in Pandas is the **DataFrame**, which is a 2-dimensional labeled data structure with columns of potentially different types. You can think of it like a spreadsheet or SQL table."
      ]
    },
    {
      "cell_type": "code",
      "execution_count": null,
      "metadata": {},
      "outputs": [],
      "source": [
        "# Import the necessary libraries\n",
        "import pandas as pd\n",
        "import numpy as np\n",
        "import matplotlib.pyplot as plt\n",
        "\n",
        "# Set display options for better output\n",
        "pd.set_option('display.max_columns', 10)\n",
        "pd.set_option('display.width', 100)"
      ]
    },
    {
      "cell_type": "markdown",
      "metadata": {},
      "source": [
        "### 1.1 Loading Data\n",
        "\n",
        "We will be using a dataset of **CO2 emissions** from [Our World in Data](https://ourworldindata.org/co2-emissions). This dataset contains information about CO2 emissions, GDP, population, and other metrics for countries around the world from 1750 to the present.\n",
        "\n",
        "**Why this dataset?** Climate change is one of the most pressing issues of our time, and understanding CO2 emissions is crucial for addressing it. This dataset allows us to explore trends, compare countries, and understand the relationship between economic development and environmental impact."
      ]
    },
    {
      "cell_type": "code",
      "execution_count": null,
      "metadata": {},
      "outputs": [],
      "source": [
        "# Load the CSV file into a Pandas DataFrame\n",
        "df = pd.read_csv('data/owid-co2-data.csv')\n",
        "\n",
        "print(\"Dataset loaded successfully!\")\n",
        "print(f\"Shape: {df.shape[0]} rows \u00d7 {df.shape[1]} columns\")"
      ]
    },
    {
      "cell_type": "markdown",
      "metadata": {},
      "source": [
        "### 1.2 Inspecting the Data\n",
        "\n",
        "Before we start analyzing data, we need to understand its structure. Let's look at the first few rows using the `head()` method."
      ]
    },
    {
      "cell_type": "code",
      "execution_count": null,
      "metadata": {},
      "outputs": [],
      "source": [
        "# Display the first 5 rows\n",
        "df.head()"
      ]
    },
    {
      "cell_type": "markdown",
      "metadata": {},
      "source": [
        "**What do we see?**\n",
        "\n",
        "- `country`: The name of the country or region\n",
        "- `year`: The year of observation\n",
        "- `co2`: Annual CO2 emissions (in million tonnes)\n",
        "- `population`: Population of the country\n",
        "- `gdp`: Gross Domestic Product\n",
        "- And many more columns...\n",
        "\n",
        "Now let's get more information about the dataset structure:"
      ]
    },
    {
      "cell_type": "code",
      "execution_count": null,
      "metadata": {},
      "outputs": [],
      "source": [
        "# Get a concise summary of the DataFrame\n",
        "df.info()"
      ]
    },
    {
      "cell_type": "markdown",
      "metadata": {},
      "source": [
        "**Key observations:**\n",
        "- We can see the data types of each column (float64, int64, object)\n",
        "- Some columns have missing values (non-null count < total entries)\n",
        "- This is normal in real-world datasets!"
      ]
    },
    {
      "cell_type": "code",
      "execution_count": null,
      "metadata": {},
      "outputs": [],
      "source": [
        "# Get basic descriptive statistics\n",
        "df.describe()"
      ]
    },
    {
      "cell_type": "markdown",
      "metadata": {},
      "source": [
        "**Interpretation:**\n",
        "- The `describe()` method gives us statistics like mean, standard deviation, min, max, and quartiles\n",
        "- For example, the mean CO2 emissions is around 200 million tonnes, but the max is over 10,000 million tonnes!\n",
        "- This suggests a highly skewed distribution with some countries emitting much more than others"
      ]
    },
    {
      "cell_type": "markdown",
      "metadata": {},
      "source": [
        "### 1.3 Selecting Data\n",
        "\n",
        "One of the most common operations in data analysis is selecting specific columns or rows. Let's explore different ways to do this."
      ]
    },
    {
      "cell_type": "code",
      "execution_count": null,
      "metadata": {},
      "outputs": [],
      "source": [
        "# Select a single column\n",
        "countries = df['country']\n",
        "print(f\"Type: {type(countries)}\")\n",
        "print(f\"\\nFirst 10 countries:\")\n",
        "print(countries.head(10))"
      ]
    },
    {
      "cell_type": "code",
      "execution_count": null,
      "metadata": {},
      "outputs": [],
      "source": [
        "# Select multiple columns\n",
        "subset = df[['country', 'year', 'co2', 'population']]\n",
        "subset.head()"
      ]
    },
    {
      "cell_type": "markdown",
      "metadata": {},
      "source": [
        "### 1.4 Filtering Data\n",
        "\n",
        "Filtering allows us to select rows that meet certain conditions. This is extremely useful for focusing on specific subsets of data."
      ]
    },
    {
      "cell_type": "code",
      "execution_count": null,
      "metadata": {},
      "outputs": [],
      "source": [
        "# Filter: Get data for the entire world\n",
        "world_df = df[df['country'] == 'World']\n",
        "print(f\"World data: {len(world_df)} rows\")\n",
        "world_df.head()"
      ]
    },
    {
      "cell_type": "code",
      "execution_count": null,
      "metadata": {},
      "outputs": [],
      "source": [
        "# Filter: Get data for recent years (after 2000)\n",
        "recent_df = df[df['year'] > 2000]\n",
        "print(f\"Recent data (after 2000): {len(recent_df)} rows\")"
      ]
    },
    {
      "cell_type": "code",
      "execution_count": null,
      "metadata": {},
      "outputs": [],
      "source": [
        "# Multiple conditions: World data after 2000\n",
        "world_recent = df[(df['country'] == 'World') & (df['year'] > 2000)]\n",
        "print(f\"World data after 2000: {len(world_recent)} rows\")\n",
        "world_recent.head()"
      ]
    },
    {
      "cell_type": "markdown",
      "metadata": {},
      "source": [
        "## 2. Introduction to Matplotlib\n",
        "\n",
        "**Matplotlib** is the most widely used Python library for creating static, animated, and interactive visualizations. It provides a MATLAB-like interface and is highly customizable.\n",
        "\n",
        "The basic workflow is:\n",
        "1. Create a figure and axes\n",
        "2. Plot data on the axes\n",
        "3. Customize (labels, titles, colors, etc.)\n",
        "4. Display or save the figure"
      ]
    },
    {
      "cell_type": "markdown",
      "metadata": {},
      "source": [
        "### 2.1 Line Plot\n",
        "\n",
        "A **line plot** is ideal for showing trends over time. Let's visualize how global CO2 emissions have changed over the years."
      ]
    },
    {
      "cell_type": "code",
      "execution_count": null,
      "metadata": {},
      "outputs": [],
      "source": [
        "# Create a line plot of global CO2 emissions over time\n",
        "plt.figure(figsize=(12, 6))\n",
        "plt.plot(world_df['year'], world_df['co2'], linewidth=2, color='darkred')\n",
        "plt.xlabel('Year', fontsize=12)\n",
        "plt.ylabel('Annual CO2 Emissions (million tonnes)', fontsize=12)\n",
        "plt.title('Global CO2 Emissions Over Time', fontsize=14, fontweight='bold')\n",
        "plt.grid(True, alpha=0.3)\n",
        "plt.tight_layout()\n",
        "plt.show()"
      ]
    },
    {
      "cell_type": "markdown",
      "metadata": {},
      "source": [
        "**Interpretation:**\n",
        "\n",
        "- We can see a dramatic increase in CO2 emissions, especially after 1950\n",
        "- This corresponds to the post-WWII industrial boom and rapid economic growth\n",
        "- The curve is exponential, which is concerning for climate change\n",
        "- There's a slight dip around 2020 (likely due to the COVID-19 pandemic)"
      ]
    },
    {
      "cell_type": "markdown",
      "metadata": {},
      "source": [
        "### 2.2 Scatter Plot\n",
        "\n",
        "A **scatter plot** is useful for examining the relationship between two variables. Let's explore the relationship between GDP and CO2 emissions."
      ]
    },
    {
      "cell_type": "code",
      "execution_count": null,
      "metadata": {},
      "outputs": [],
      "source": [
        "# Remove rows with missing GDP or CO2 data\n",
        "world_clean = world_df.dropna(subset=['gdp', 'co2'])\n",
        "\n",
        "# Create a scatter plot\n",
        "plt.figure(figsize=(10, 6))\n",
        "plt.scatter(world_clean['gdp'], world_clean['co2'], alpha=0.6, s=50, color='steelblue')\n",
        "plt.xlabel('GDP (in billions)', fontsize=12)\n",
        "plt.ylabel('Annual CO2 Emissions (million tonnes)', fontsize=12)\n",
        "plt.title('Global CO2 Emissions vs. GDP', fontsize=14, fontweight='bold')\n",
        "plt.grid(True, alpha=0.3)\n",
        "plt.tight_layout()\n",
        "plt.show()"
      ]
    },
    {
      "cell_type": "markdown",
      "metadata": {},
      "source": [
        "**Interpretation:**\n",
        "\n",
        "- There's a clear positive correlation between GDP and CO2 emissions\n",
        "- As economies grow, they tend to emit more CO2\n",
        "- This raises an important question: Can we achieve economic growth while reducing emissions?\n",
        "- This is the concept of \"decoupling\" that many countries are trying to achieve"
      ]
    },
    {
      "cell_type": "markdown",
      "metadata": {},
      "source": [
        "### 2.3 Bar Chart\n",
        "\n",
        "A **bar chart** is excellent for comparing values across categories. Let's compare CO2 emissions of different countries in a specific year."
      ]
    },
    {
      "cell_type": "code",
      "execution_count": null,
      "metadata": {},
      "outputs": [],
      "source": [
        "# Select top emitting countries in 2020\n",
        "countries_of_interest = ['United States', 'China', 'India', 'Russia', 'Japan']\n",
        "year_2020_df = df[(df['year'] == 2020) & (df['country'].isin(countries_of_interest))]\n",
        "\n",
        "# Sort by CO2 emissions for better visualization\n",
        "year_2020_df = year_2020_df.sort_values('co2', ascending=False)\n",
        "\n",
        "# Create a bar chart\n",
        "plt.figure(figsize=(10, 6))\n",
        "bars = plt.bar(year_2020_df['country'], year_2020_df['co2'], color=['#d62728', '#ff7f0e', '#2ca02c', '#1f77b4', '#9467bd'])\n",
        "plt.xlabel('Country', fontsize=12)\n",
        "plt.ylabel('Annual CO2 Emissions (million tonnes)', fontsize=12)\n",
        "plt.title('CO2 Emissions by Country in 2020', fontsize=14, fontweight='bold')\n",
        "plt.xticks(rotation=45, ha='right')\n",
        "plt.grid(axis='y', alpha=0.3)\n",
        "plt.tight_layout()\n",
        "plt.show()"
      ]
    },
    {
      "cell_type": "markdown",
      "metadata": {},
      "source": [
        "**Interpretation:**\n",
        "\n",
        "- China is by far the largest emitter, followed by the United States\n",
        "- However, it's important to note that China has a much larger population\n",
        "- To get a fairer comparison, we should look at **per capita emissions** (emissions per person)\n",
        "- Let's explore that next!"
      ]
    },
    {
      "cell_type": "code",
      "execution_count": null,
      "metadata": {},
      "outputs": [],
      "source": [
        "# Compare per capita emissions\n",
        "year_2020_df_clean = year_2020_df.dropna(subset=['co2_per_capita'])\n",
        "\n",
        "plt.figure(figsize=(10, 6))\n",
        "bars = plt.bar(year_2020_df_clean['country'], year_2020_df_clean['co2_per_capita'], \n",
        "               color=['#d62728', '#ff7f0e', '#2ca02c', '#1f77b4', '#9467bd'])\n",
        "plt.xlabel('Country', fontsize=12)\n",
        "plt.ylabel('CO2 Emissions Per Capita (tonnes per person)', fontsize=12)\n",
        "plt.title('CO2 Emissions Per Capita by Country in 2020', fontsize=14, fontweight='bold')\n",
        "plt.xticks(rotation=45, ha='right')\n",
        "plt.grid(axis='y', alpha=0.3)\n",
        "plt.tight_layout()\n",
        "plt.show()"
      ]
    },
    {
      "cell_type": "markdown",
      "metadata": {},
      "source": [
        "**Interpretation:**\n",
        "\n",
        "- The picture changes dramatically when we look at per capita emissions!\n",
        "- The United States has much higher per capita emissions than China\n",
        "- India has relatively low per capita emissions despite its large population\n",
        "- This highlights the importance of choosing the right metric for comparison"
      ]
    },
    {
      "cell_type": "markdown",
      "metadata": {},
      "source": [
        "### 2.4 Customizing Plots\n",
        "\n",
        "Let's create a more sophisticated plot with multiple customizations."
      ]
    },
    {
      "cell_type": "code",
      "execution_count": null,
      "metadata": {},
      "outputs": [],
      "source": [
        "# Select data for a few countries over time\n",
        "countries_to_plot = ['United States', 'China', 'India']\n",
        "recent_years = df[df['year'] >= 1990]\n",
        "\n",
        "plt.figure(figsize=(12, 7))\n",
        "\n",
        "for country in countries_to_plot:\n",
        "    country_data = recent_years[recent_years['country'] == country]\n",
        "    plt.plot(country_data['year'], country_data['co2'], marker='o', markersize=4, linewidth=2, label=country)\n",
        "\n",
        "plt.xlabel('Year', fontsize=12)\n",
        "plt.ylabel('Annual CO2 Emissions (million tonnes)', fontsize=12)\n",
        "plt.title('CO2 Emissions Trends: USA, China, and India (1990-Present)', fontsize=14, fontweight='bold')\n",
        "plt.legend(fontsize=11, loc='upper left')\n",
        "plt.grid(True, alpha=0.3)\n",
        "plt.tight_layout()\n",
        "plt.show()"
      ]
    },
    {
      "cell_type": "markdown",
      "metadata": {},
      "source": [
        "**Interpretation:**\n",
        "\n",
        "- China's emissions have grown dramatically since the 1990s, overtaking the US around 2005\n",
        "- US emissions have remained relatively stable and even decreased slightly in recent years\n",
        "- India's emissions are growing but at a slower rate than China's\n",
        "- These trends reflect different stages of economic development and industrialization"
      ]
    },
    {
      "cell_type": "markdown",
      "metadata": {},
      "source": [
        "## 3. Exercises\n",
        "\n",
        "Now it's your turn! Try these exercises to practice what you've learned:\n",
        "\n",
        "**Exercise 1:** Create a line plot showing the population growth of the world over time.\n",
        "\n",
        "**Exercise 2:** Create a scatter plot showing the relationship between population and CO2 emissions for all countries in 2020.\n",
        "\n",
        "**Exercise 3:** Create a bar chart comparing the GDP of the top 5 economies in 2020.\n",
        "\n",
        "**Exercise 4:** Filter the dataset to show only European countries and create a line plot of their combined CO2 emissions over time."
      ]
    },
    {
      "cell_type": "code",
      "execution_count": null,
      "metadata": {},
      "outputs": [],
      "source": [
        "# Your code for Exercise 1 here\n"
      ]
    },
    {
      "cell_type": "code",
      "execution_count": null,
      "metadata": {},
      "outputs": [],
      "source": [
        "# Your code for Exercise 2 here\n"
      ]
    },
    {
      "cell_type": "code",
      "execution_count": null,
      "metadata": {},
      "outputs": [],
      "source": [
        "# Your code for Exercise 3 here\n"
      ]
    },
    {
      "cell_type": "code",
      "execution_count": null,
      "metadata": {},
      "outputs": [],
      "source": [
        "# Your code for Exercise 4 here\n"
      ]
    },
    {
      "cell_type": "markdown",
      "metadata": {},
      "source": [
        "## 6. Exploratory Data Analysis (EDA)\n",
        "\n",
        "Exploratory Data Analysis is the process of investigating datasets to discover patterns, spot anomalies, test hypotheses, and check assumptions. Let's perform a comprehensive EDA on our CO2 emissions dataset!"
      ]
    },
    {
      "cell_type": "markdown",
      "metadata": {},
      "source": [
        "### 6.1 Understanding Data Distribution\n",
        "\n",
        "Let's examine how CO2 emissions are distributed across countries."
      ]
    },
    {
      "cell_type": "code",
      "execution_count": null,
      "metadata": {},
      "outputs": [],
      "source": [
        "# Distribution of CO2 emissions in 2020\n",
        "exclude_regions = ['World', 'Asia', 'Africa', 'Europe', 'North America', 'South America', 'Oceania',\n",
        "                   'European Union (27)', 'High-income countries', 'Low-income countries',\n",
        "                   'Lower-middle-income countries', 'Upper-middle-income countries']\n",
        "\n",
        "countries_2020 = df[(df['year'] == 2020) & (~df['country'].isin(exclude_regions))].dropna(subset=['co2'])\n",
        "\n",
        "fig, axes = plt.subplots(1, 2, figsize=(16, 6))\n",
        "\n",
        "# Histogram\n",
        "axes[0].hist(countries_2020['co2'], bins=50, color='steelblue', edgecolor='black', alpha=0.7)\n",
        "axes[0].set_xlabel('CO2 Emissions (million tonnes)', fontsize=12, fontweight='bold')\n",
        "axes[0].set_ylabel('Number of Countries', fontsize=12, fontweight='bold')\n",
        "axes[0].set_title('Distribution of CO2 Emissions (2020)', fontsize=13, fontweight='bold')\n",
        "axes[0].grid(axis='y', alpha=0.3)\n",
        "axes[0].text(0.7, 0.95, f'Total countries: {len(countries_2020)}', transform=axes[0].transAxes,\n",
        "            fontsize=10, verticalalignment='top', bbox=dict(boxstyle='round', facecolor='wheat', alpha=0.5))\n",
        "\n",
        "# Log-scale histogram\n",
        "axes[1].hist(countries_2020['co2'], bins=50, color='coral', edgecolor='black', alpha=0.7)\n",
        "axes[1].set_xlabel('CO2 Emissions (million tonnes)', fontsize=12, fontweight='bold')\n",
        "axes[1].set_ylabel('Number of Countries', fontsize=12, fontweight='bold')\n",
        "axes[1].set_title('Distribution (Log Scale)', fontsize=13, fontweight='bold')\n",
        "axes[1].set_yscale('log')\n",
        "axes[1].grid(axis='y', alpha=0.3)\n",
        "\n",
        "plt.tight_layout()\n",
        "plt.show()\n",
        "\n",
        "print(f\"\\nStatistics for CO2 emissions in 2020:\")\n",
        "print(f\"Mean: {countries_2020['co2'].mean():.2f} million tonnes\")\n",
        "print(f\"Median: {countries_2020['co2'].median():.2f} million tonnes\")\n",
        "print(f\"Std Dev: {countries_2020['co2'].std():.2f} million tonnes\")\n",
        "print(f\"Min: {countries_2020['co2'].min():.2f} million tonnes\")\n",
        "print(f\"Max: {countries_2020['co2'].max():.2f} million tonnes\")"
      ]
    },
    {
      "cell_type": "markdown",
      "metadata": {},
      "source": [
        "**Key Observations:**\n",
        "- The distribution is highly skewed (mean >> median)\n",
        "- Most countries have relatively low emissions\n",
        "- A few countries dominate global emissions\n",
        "- This is a classic example of a **power law distribution**"
      ]
    },
    {
      "cell_type": "markdown",
      "metadata": {},
      "source": [
        "### 6.2 Correlation Analysis\n",
        "\n",
        "Let's explore relationships between different variables using correlation."
      ]
    },
    {
      "cell_type": "code",
      "execution_count": null,
      "metadata": {},
      "outputs": [],
      "source": [
        "# Calculate correlation matrix for key variables\n",
        "correlation_vars = ['co2', 'population', 'gdp', 'co2_per_capita']\n",
        "corr_data = df[df['year'] == 2020][correlation_vars].dropna()\n",
        "correlation_matrix = corr_data.corr()\n",
        "\n",
        "print(\"Correlation Matrix (2020):\")\n",
        "print(correlation_matrix.round(3))\n",
        "\n",
        "# Visualize correlation matrix\n",
        "fig, ax = plt.subplots(figsize=(10, 8))\n",
        "im = ax.imshow(correlation_matrix, cmap='coolwarm', aspect='auto', vmin=-1, vmax=1)\n",
        "\n",
        "# Set ticks and labels\n",
        "ax.set_xticks(np.arange(len(correlation_vars)))\n",
        "ax.set_yticks(np.arange(len(correlation_vars)))\n",
        "ax.set_xticklabels(correlation_vars, fontsize=11)\n",
        "ax.set_yticklabels(correlation_vars, fontsize=11)\n",
        "\n",
        "# Rotate the tick labels\n",
        "plt.setp(ax.get_xticklabels(), rotation=45, ha=\"right\", rotation_mode=\"anchor\")\n",
        "\n",
        "# Add correlation values as text\n",
        "for i in range(len(correlation_vars)):\n",
        "    for j in range(len(correlation_vars)):\n",
        "        text = ax.text(j, i, f'{correlation_matrix.iloc[i, j]:.2f}',\n",
        "                      ha=\"center\", va=\"center\", color=\"black\", fontsize=12, fontweight='bold')\n",
        "\n",
        "ax.set_title('Correlation Matrix of Key Variables (2020)', fontsize=14, fontweight='bold', pad=20)\n",
        "plt.colorbar(im, ax=ax, label='Correlation Coefficient')\n",
        "plt.tight_layout()\n",
        "plt.show()"
      ]
    },
    {
      "cell_type": "markdown",
      "metadata": {},
      "source": [
        "**Interpretation:**\n",
        "- **Strong positive correlation** between CO2 and GDP (0.9+): Economic activity drives emissions\n",
        "- **Moderate correlation** between CO2 and population: More people \u2260 proportionally more emissions\n",
        "- **Weak/negative correlation** between population and CO2 per capita: Large populations don't always mean high per capita emissions\n",
        "- This suggests that **wealth matters more than population size** for emissions"
      ]
    },
    {
      "cell_type": "markdown",
      "metadata": {},
      "source": [
        "### 6.3 Temporal Trends Analysis\n",
        "\n",
        "How have emissions changed over different time periods?"
      ]
    },
    {
      "cell_type": "code",
      "execution_count": null,
      "metadata": {},
      "outputs": [],
      "source": [
        "# Analyze emissions by decade\n",
        "world_data = df[df['country'] == 'World'].dropna(subset=['co2', 'year'])\n",
        "world_data['decade'] = (world_data['year'] // 10) * 10\n",
        "\n",
        "# Calculate average emissions per decade\n",
        "decade_avg = world_data.groupby('decade')['co2'].mean().reset_index()\n",
        "decade_avg = decade_avg[decade_avg['decade'] >= 1900]\n",
        "\n",
        "plt.figure(figsize=(14, 7))\n",
        "bars = plt.bar(decade_avg['decade'], decade_avg['co2'], width=8, \n",
        "               color=plt.cm.Reds(np.linspace(0.3, 0.9, len(decade_avg))),\n",
        "               edgecolor='black', linewidth=1.5)\n",
        "\n",
        "# Add value labels on bars\n",
        "for bar in bars:\n",
        "    height = bar.get_height()\n",
        "    plt.text(bar.get_x() + bar.get_width()/2., height,\n",
        "            f'{height:.0f}',\n",
        "            ha='center', va='bottom', fontsize=9, fontweight='bold')\n",
        "\n",
        "plt.xlabel('Decade', fontsize=13, fontweight='bold')\n",
        "plt.ylabel('Average Annual CO2 Emissions (million tonnes)', fontsize=13, fontweight='bold')\n",
        "plt.title('Global CO2 Emissions by Decade (1900-Present)', fontsize=15, fontweight='bold')\n",
        "plt.grid(axis='y', alpha=0.3)\n",
        "plt.tight_layout()\n",
        "plt.show()\n",
        "\n",
        "# Calculate growth rates\n",
        "decade_avg['growth_rate'] = decade_avg['co2'].pct_change() * 100\n",
        "print(\"\\nDecadal Growth Rates:\")\n",
        "print(decade_avg[['decade', 'co2', 'growth_rate']].to_string(index=False))"
      ]
    },
    {
      "cell_type": "markdown",
      "metadata": {},
      "source": [
        "**Key Findings:**\n",
        "- Exponential growth from 1950 onwards\n",
        "- 1970s-1980s: Rapid industrialization\n",
        "- 2000s-2010s: Continued growth despite climate awareness\n",
        "- Recent decades show slowing growth rate (but still growing!)"
      ]
    },
    {
      "cell_type": "markdown",
      "metadata": {},
      "source": [
        "### 6.4 Regional Patterns\n",
        "\n",
        "Let's compare emissions across different regions and income levels."
      ]
    },
    {
      "cell_type": "code",
      "execution_count": null,
      "metadata": {},
      "outputs": [],
      "source": [
        "# Compare continents over time\n",
        "continents = ['Asia', 'Europe', 'North America', 'South America', 'Africa', 'Oceania']\n",
        "continent_data = df[(df['country'].isin(continents)) & (df['year'] >= 1950)]\n",
        "\n",
        "plt.figure(figsize=(14, 8))\n",
        "colors_cont = ['#e74c3c', '#3498db', '#2ecc71', '#f39c12', '#9b59b6', '#1abc9c']\n",
        "\n",
        "for continent, color in zip(continents, colors_cont):\n",
        "    cont_data = continent_data[continent_data['country'] == continent]\n",
        "    plt.plot(cont_data['year'], cont_data['co2'], linewidth=2.5, \n",
        "            label=continent, color=color, marker='o', markersize=3, markevery=10)\n",
        "\n",
        "plt.xlabel('Year', fontsize=13, fontweight='bold')\n",
        "plt.ylabel('Annual CO2 Emissions (million tonnes)', fontsize=13, fontweight='bold')\n",
        "plt.title('CO2 Emissions by Continent (1950-Present)', fontsize=15, fontweight='bold')\n",
        "plt.legend(fontsize=11, loc='upper left', framealpha=0.9)\n",
        "plt.grid(True, alpha=0.3, linestyle='--')\n",
        "plt.tight_layout()\n",
        "plt.show()\n",
        "\n",
        "# Calculate 2020 shares\n",
        "continent_2020 = df[(df['country'].isin(continents)) & (df['year'] == 2020)][['country', 'co2']]\n",
        "continent_2020['percentage'] = (continent_2020['co2'] / continent_2020['co2'].sum() * 100).round(1)\n",
        "print(\"\\nContinental Share of Emissions (2020):\")\n",
        "print(continent_2020.sort_values('co2', ascending=False).to_string(index=False))"
      ]
    },
    {
      "cell_type": "markdown",
      "metadata": {},
      "source": [
        "**Regional Insights:**\n",
        "- **Asia** has overtaken all other continents combined\n",
        "- **Europe** shows declining trend since 1990\n",
        "- **North America** peaked around 2005\n",
        "- **Africa** remains lowest despite large population\n",
        "- This reflects the shift of manufacturing to Asia"
      ]
    },
    {
      "cell_type": "markdown",
      "metadata": {},
      "source": [
        "### 6.5 Outlier Detection\n",
        "\n",
        "Let's identify countries with unusual emission patterns."
      ]
    },
    {
      "cell_type": "code",
      "execution_count": null,
      "metadata": {},
      "outputs": [],
      "source": [
        "# Find outliers using IQR method for per capita emissions\n",
        "pc_2020 = df[(df['year'] == 2020) & (~df['country'].isin(exclude_regions))].dropna(subset=['co2_per_capita'])\n",
        "\n",
        "Q1 = pc_2020['co2_per_capita'].quantile(0.25)\n",
        "Q3 = pc_2020['co2_per_capita'].quantile(0.75)\n",
        "IQR = Q3 - Q1\n",
        "\n",
        "# Define outliers\n",
        "lower_bound = Q1 - 1.5 * IQR\n",
        "upper_bound = Q3 + 1.5 * IQR\n",
        "\n",
        "outliers = pc_2020[(pc_2020['co2_per_capita'] < lower_bound) | (pc_2020['co2_per_capita'] > upper_bound)]\n",
        "high_outliers = outliers[outliers['co2_per_capita'] > upper_bound].nlargest(15, 'co2_per_capita')\n",
        "\n",
        "print(f\"Outlier Detection Results:\")\n",
        "print(f\"Q1 (25th percentile): {Q1:.2f}\")\n",
        "print(f\"Q3 (75th percentile): {Q3:.2f}\")\n",
        "print(f\"IQR: {IQR:.2f}\")\n",
        "print(f\"Upper bound for outliers: {upper_bound:.2f}\")\n",
        "print(f\"\\nTop 15 High-Emission Outliers (Per Capita):\")\n",
        "print(high_outliers[['country', 'co2_per_capita', 'population']].to_string(index=False))\n",
        "\n",
        "# Visualize outliers\n",
        "plt.figure(figsize=(14, 7))\n",
        "plt.barh(range(len(high_outliers)), high_outliers['co2_per_capita'].values,\n",
        "        color='darkred', alpha=0.7, edgecolor='black', linewidth=1.5)\n",
        "plt.yticks(range(len(high_outliers)), high_outliers['country'].values, fontsize=10)\n",
        "plt.xlabel('CO2 Per Capita (tonnes/person)', fontsize=13, fontweight='bold')\n",
        "plt.title('Countries with Exceptionally High Per Capita Emissions (2020)', fontsize=15, fontweight='bold')\n",
        "plt.axvline(x=upper_bound, color='blue', linestyle='--', linewidth=2, label=f'Outlier Threshold ({upper_bound:.1f})')\n",
        "plt.legend(fontsize=11)\n",
        "plt.grid(axis='x', alpha=0.3)\n",
        "plt.gca().invert_yaxis()\n",
        "plt.tight_layout()\n",
        "plt.show()"
      ]
    },
    {
      "cell_type": "markdown",
      "metadata": {},
      "source": [
        "**Outlier Analysis:**\n",
        "- Many outliers are **oil-rich nations** (Qatar, Kuwait, UAE)\n",
        "- Small populations but massive energy consumption\n",
        "- Some are **industrial hubs** with high manufacturing\n",
        "- These countries need different policy approaches than large emitters"
      ]
    },
    {
      "cell_type": "markdown",
      "metadata": {},
      "source": [
        "### 6.6 Time Series Decomposition\n",
        "\n",
        "Let's analyze the components of the emission trend."
      ]
    },
    {
      "cell_type": "code",
      "execution_count": null,
      "metadata": {},
      "outputs": [],
      "source": [
        "# Analyze growth acceleration\n",
        "world_ts = df[df['country'] == 'World'].dropna(subset=['co2', 'year']).sort_values('year')\n",
        "world_ts = world_ts[world_ts['year'] >= 1900].copy()\n",
        "\n",
        "# Calculate year-over-year change and acceleration\n",
        "world_ts['co2_change'] = world_ts['co2'].diff()\n",
        "world_ts['co2_acceleration'] = world_ts['co2_change'].diff()\n",
        "\n",
        "fig, axes = plt.subplots(3, 1, figsize=(14, 12), sharex=True)\n",
        "\n",
        "# Plot 1: Absolute emissions\n",
        "axes[0].plot(world_ts['year'], world_ts['co2'], linewidth=2.5, color='darkred')\n",
        "axes[0].fill_between(world_ts['year'], world_ts['co2'], alpha=0.3, color='darkred')\n",
        "axes[0].set_ylabel('CO2 Emissions\\n(million tonnes)', fontsize=11, fontweight='bold')\n",
        "axes[0].set_title('A) Absolute Emissions', loc='left', fontsize=12, fontweight='bold')\n",
        "axes[0].grid(True, alpha=0.3)\n",
        "\n",
        "# Plot 2: Year-over-year change\n",
        "axes[1].plot(world_ts['year'], world_ts['co2_change'], linewidth=2, color='blue')\n",
        "axes[1].axhline(y=0, color='black', linestyle='--', linewidth=1)\n",
        "axes[1].fill_between(world_ts['year'], world_ts['co2_change'], alpha=0.3, color='blue')\n",
        "axes[1].set_ylabel('Annual Change\\n(million tonnes/year)', fontsize=11, fontweight='bold')\n",
        "axes[1].set_title('B) Rate of Change (First Derivative)', loc='left', fontsize=12, fontweight='bold')\n",
        "axes[1].grid(True, alpha=0.3)\n",
        "\n",
        "# Plot 3: Acceleration\n",
        "axes[2].plot(world_ts['year'], world_ts['co2_acceleration'], linewidth=2, color='green')\n",
        "axes[2].axhline(y=0, color='black', linestyle='--', linewidth=1)\n",
        "axes[2].fill_between(world_ts['year'], world_ts['co2_acceleration'], \n",
        "                     where=(world_ts['co2_acceleration'] >= 0), alpha=0.3, color='green', label='Accelerating')\n",
        "axes[2].fill_between(world_ts['year'], world_ts['co2_acceleration'], \n",
        "                     where=(world_ts['co2_acceleration'] < 0), alpha=0.3, color='red', label='Decelerating')\n",
        "axes[2].set_ylabel('Acceleration\\n(million tonnes/year\u00b2)', fontsize=11, fontweight='bold')\n",
        "axes[2].set_xlabel('Year', fontsize=12, fontweight='bold')\n",
        "axes[2].set_title('C) Acceleration (Second Derivative)', loc='left', fontsize=12, fontweight='bold')\n",
        "axes[2].legend(fontsize=10)\n",
        "axes[2].grid(True, alpha=0.3)\n",
        "\n",
        "fig.suptitle('Time Series Decomposition of Global CO2 Emissions', fontsize=16, fontweight='bold', y=0.995)\n",
        "plt.tight_layout()\n",
        "plt.show()"
      ]
    },
    {
      "cell_type": "markdown",
      "metadata": {},
      "source": [
        "**Mathematical Insight:**\n",
        "- **First derivative** (rate of change) shows emissions are still increasing\n",
        "- **Second derivative** (acceleration) reveals periods of rapid growth and slowdown\n",
        "- Negative acceleration doesn't mean emissions are falling\u2014just growing slower\n",
        "- We need negative first derivative (actual decline) to reverse climate change"
      ]
    },
    {
      "cell_type": "markdown",
      "metadata": {},
      "source": [
        "### 6.7 Comparative Box Plots\n",
        "\n",
        "Let's compare the distribution of emissions across different country groups."
      ]
    },
    {
      "cell_type": "code",
      "execution_count": null,
      "metadata": {},
      "outputs": [],
      "source": [
        "# Compare per capita emissions for selected countries over time\n",
        "comparison_countries = ['United States', 'China', 'India', 'Germany', 'Brazil', 'Japan']\n",
        "box_data_df = df[(df['country'].isin(comparison_countries)) & (df['year'] >= 1990)].dropna(subset=['co2_per_capita'])\n",
        "\n",
        "# Prepare data for box plot\n",
        "data_for_box = [box_data_df[box_data_df['country'] == country]['co2_per_capita'].values \n",
        "                for country in comparison_countries]\n",
        "\n",
        "plt.figure(figsize=(14, 7))\n",
        "bp = plt.boxplot(data_for_box, labels=comparison_countries, patch_artist=True,\n",
        "                 boxprops=dict(facecolor='lightblue', alpha=0.7),\n",
        "                 medianprops=dict(color='red', linewidth=2),\n",
        "                 whiskerprops=dict(linewidth=1.5),\n",
        "                 capprops=dict(linewidth=1.5))\n",
        "\n",
        "plt.ylabel('CO2 Per Capita (tonnes/person)', fontsize=13, fontweight='bold')\n",
        "plt.title('Distribution of Per Capita Emissions (1990-2022)', fontsize=15, fontweight='bold')\n",
        "plt.xticks(rotation=45, ha='right', fontsize=11)\n",
        "plt.grid(axis='y', alpha=0.3)\n",
        "plt.tight_layout()\n",
        "plt.show()\n",
        "\n",
        "# Print summary statistics\n",
        "print(\"\\nSummary Statistics by Country (1990-2022):\")\n",
        "for country in comparison_countries:\n",
        "    country_data = box_data_df[box_data_df['country'] == country]['co2_per_capita']\n",
        "    print(f\"{country:15s}: Median={country_data.median():.2f}, Mean={country_data.mean():.2f}, \"\n",
        "          f\"Std={country_data.std():.2f}, Range=[{country_data.min():.2f}, {country_data.max():.2f}]\")"
      ]
    },
    {
      "cell_type": "markdown",
      "metadata": {},
      "source": [
        "**Box Plot Interpretation:**\n",
        "- **Box**: Contains middle 50% of data (IQR)\n",
        "- **Red line**: Median value\n",
        "- **Whiskers**: Extend to 1.5\u00d7IQR\n",
        "- **US**: High and stable\n",
        "- **China**: Wide range showing rapid growth\n",
        "- **India**: Consistently low\n",
        "- **Germany**: Declining trend visible in compressed upper range"
      ]
    },
    {
      "cell_type": "markdown",
      "metadata": {},
      "source": [
        "## 4. Summary\n",
        "\n",
        "In this lecture, you've learned:\n",
        "\n",
        "1. **The data science pipeline** and where Pandas and Matplotlib fit in\n",
        "2. **Pandas basics**: loading data, inspecting it, selecting columns, and filtering rows\n",
        "3. **Matplotlib basics**: creating line plots, scatter plots, and bar charts\n",
        "4. **Customization**: adding labels, titles, colors, and legends to make plots more informative\n",
        "5. **Interpretation**: understanding what visualizations tell us about the data\n",
        "\n",
        "These are fundamental skills that you'll use throughout your data science journey. In the next lecture, we'll explore more advanced techniques including groupby operations, pivot tables, subplots, and heatmaps.\n",
        "\n",
        "## References\n",
        "\n",
        "- [Pandas Documentation](https://pandas.pydata.org/docs/)\n",
        "- [Matplotlib Documentation](https://matplotlib.org/stable/index.html)\n",
        "- [Our World in Data - CO2 Emissions](https://ourworldindata.org/co2-emissions)"
      ]
    }
  ],
  "metadata": {
    "kernelspec": {
      "display_name": "Python 3",
      "language": "python",
      "name": "python3"
    },
    "language_info": {
      "codemirror_mode": {
        "name": "ipython",
        "version": 3
      },
      "file_extension": ".py",
      "mimetype": "text/x-python",
      "name": "python",
      "nbconvert_exporter": "python",
      "pygments_lexer": "ipython3",
      "version": "3.11.0"
    }
  },
  "nbformat": 4,
  "nbformat_minor": 4
}